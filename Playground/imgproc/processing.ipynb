{
 "cells": [
  {
   "cell_type": "markdown",
   "metadata": {},
   "source": [
    "### Uses processing.py's code in a notebook for interactivity. Also attempts some contour length calculations. Doesn't yet convert to physical units.\n",
    "\n",
    "This code generates a lot of `.txt` and `.png` files in the imgproc/ directory. They're gitignored so don't show up in GitHub, but you can view them locally."
   ]
  },
  {
   "cell_type": "markdown",
   "metadata": {},
   "source": [
    "# Setup"
   ]
  },
  {
   "cell_type": "code",
   "execution_count": 3,
   "metadata": {
    "ExecuteTime": {
     "end_time": "2023-03-12T12:01:23.541858Z",
     "start_time": "2023-03-12T12:01:23.395741Z"
    }
   },
   "outputs": [
    {
     "name": "stdout",
     "output_type": "stream",
     "text": [
      "Units: Millimeter (mm)\n",
      "ITK_FileNotes: \n",
      "aux_file: \n",
      "bitpix: 16\n",
      "cal_max: 0\n",
      "cal_min: 0\n",
      "datatype: 4\n",
      "descrip: \n",
      "dim[0]: 3\n",
      "dim[1]: 244\n",
      "dim[2]: 292\n",
      "dim[3]: 198\n",
      "dim[4]: 1\n",
      "dim[5]: 1\n",
      "dim[6]: 1\n",
      "dim[7]: 1\n",
      "dim_info: 0\n",
      "intent_code: 0\n",
      "intent_name: \n",
      "intent_p1: 0\n",
      "intent_p2: 0\n",
      "intent_p3: 0\n",
      "nifti_type: 1\n",
      "pixdim[0]: 0\n",
      "pixdim[1]: 0.79918\n",
      "pixdim[2]: 0.797945\n",
      "pixdim[3]: 0.80303\n",
      "pixdim[4]: 0\n",
      "pixdim[5]: 0\n",
      "pixdim[6]: 0\n",
      "pixdim[7]: 0\n",
      "qfac: [UNKNOWN_PRINT_CHARACTERISTICS]\n",
      "\n",
      "qform_code: 1\n",
      "qform_code_name: NIFTI_XFORM_SCANNER_ANAT\n",
      "qoffset_x: -96.1004\n",
      "qoffset_y: -134.101\n",
      "qoffset_z: -72.0985\n",
      "qto_xyz: [UNKNOWN_PRINT_CHARACTERISTICS]\n",
      "\n",
      "quatern_b: 0\n",
      "quatern_c: 0\n",
      "quatern_d: 0\n",
      "scl_inter: 0\n",
      "scl_slope: 1\n",
      "sform_code: 0\n",
      "sform_code_name: NIFTI_XFORM_UNKNOWN\n",
      "slice_code: 0\n",
      "slice_duration: 0\n",
      "slice_end: 0\n",
      "slice_start: 0\n",
      "srow_x: 0 0 0 0\n",
      "srow_y: 0 0 0 0\n",
      "srow_z: 0 0 0 0\n",
      "toffset: 0\n",
      "vox_offset: 352\n",
      "xyzt_units: 2\n",
      "<class 'str'>\n"
     ]
    }
   ],
   "source": [
    "import SimpleITK as sitk\n",
    "import numpy as np\n",
    "import matplotlib.pyplot as plt\n",
    "\n",
    "%matplotlib inline\n",
    "from ipywidgets import interact, fixed\n",
    "import cv2\n",
    "\n",
    "from imgproc_helpers import *\n",
    "\n",
    "OUTPUT_DIR = \"../../out\"\n",
    "NRRD1_PATH = \"../../ExampleData/BCP_Dataset_2month_T1w.nrrd\"\n",
    "NRRD2_PATH = \"../../ExampleData/IBIS_Dataset_12month_T1w.nrrd\"\n",
    "NRRD3_PATH = \"../../ExampleData/IBIS_Dataset_NotAligned_6month_T1w.nrrd\"\n",
    "\"\"\"This is an intentionally misaligned image.\"\"\"\n",
    "NIFTI_PATH = \"../../ExampleData/MicroBiome_1month_T1w.nii.gz\"\n",
    "\n",
    "NIFTI_UNITS = {\n",
    "    \"0\": \"Unknown\",\n",
    "    \"1\": \"Meter (m)\",\n",
    "    \"2\": \"Millimeter (mm)\",\n",
    "    \"3\": \"Micron (μm)\",\n",
    "    \"8\": \"Seconds (s)\",\n",
    "    \"16\": \"Milliseconds (ms)\",\n",
    "    \"24\": \"Microseconds (μs)\",\n",
    "    \"32\": \"Hertz (Hz)\",\n",
    "    \"40\": \"Parts-per-million (ppm)\",\n",
    "    \"48\": \"Radians per second (rad/s)\",\n",
    "}\n",
    "\"\"\"Maps the `xyzt_units` metadata field of a NIfTI file to physical meaning.\n",
    "\n",
    "Based on https://brainder.org/2012/09/23/the-nifti-file-format/\"\"\"\n",
    "\n",
    "reader = sitk.ImageFileReader()\n",
    "reader.SetFileName(NIFTI_PATH)\n",
    "# Not sure what this does, trying to read metadata\n",
    "reader.LoadPrivateTagsOn()\n",
    "image = reader.Execute()\n",
    "# print(f\"Origin: {image.GetOrigin()}\")\n",
    "# print(f\"Dimensions: {image.GetSize()}\")\n",
    "# print(f\"[Dimensions / 2]: {[(dimension - 1) / 2.0 for dimension in image.GetSize()]}\")\n",
    "# print(f\"Spacing: {image.GetSpacing()}\")\n",
    "# print(f\"reader.ReadImageInformation(): {reader.ReadImageInformation()}\")\n",
    "print(\n",
    "    f'Units: {NIFTI_UNITS[reader.GetMetaData(\"xyzt_units\")]}'\n",
    "    if \"xyzt_units\" in reader.GetMetaDataKeys()\n",
    "    else \"\"\n",
    ")\n",
    "# print(f\"\\n\\nMetadata keys: {reader.GetMetaDataKeys}\")\n",
    "\n",
    "for key in reader.GetMetaDataKeys():\n",
    "    # print(type(key))\n",
    "    # keys are strings\n",
    "    print(f\"{key}: {reader.GetMetaData(key)}\")\n",
    "\n",
    "# str\n",
    "# print(type(reader.GetMetaData(\"xyzt_units\")))"
   ]
  },
  {
   "cell_type": "markdown",
   "metadata": {},
   "source": [
    "# Interactive version of `rotate_and_get_contour`\n",
    "\n",
    "`rotate_and_get_contour` is already defined in `imgproc_helpers.py` but is redefined here to include `plt.show()` to display with `ipywidgets`. I also print out the number of detected contours.\n",
    "\n",
    "Comment out smooth slice to avoid warnings in the output.\n",
    "\n",
    "To be clear, this is not \"production-quality\" code. It's just for interactivity for testing purposes."
   ]
  },
  {
   "cell_type": "code",
   "execution_count": 4,
   "metadata": {
    "ExecuteTime": {
     "end_time": "2023-03-12T12:01:23.685673Z",
     "start_time": "2023-03-12T12:01:23.547748Z"
    }
   },
   "outputs": [],
   "source": [
    "def rotate_and_get_contour_testing(\n",
    "    img: sitk.Image, theta_x: int, theta_y: int, theta_z: int, slice_z: int\n",
    ") -> sitk.Image:\n",
    "    \"\"\"Same as the function of the same name in imgproc_helpers.py but needs to be redefined here to include `plt.show()`.\"\"\"\n",
    "\n",
    "    euler_3d_transform = sitk.Euler3DTransform()\n",
    "    # NOTE: This center is possibly incorrect.\n",
    "    euler_3d_transform.SetCenter(\n",
    "        img.TransformContinuousIndexToPhysicalPoint(\n",
    "            [((dimension - 1) / 2.0) for dimension in img.GetSize()]\n",
    "        )\n",
    "    )\n",
    "    euler_3d_transform.SetRotation(\n",
    "        degrees_to_radians(theta_x),\n",
    "        degrees_to_radians(theta_y),\n",
    "        degrees_to_radians(theta_z),\n",
    "    )\n",
    "    rotated_image = sitk.Resample(img, euler_3d_transform)\n",
    "    rotated_image_slice = rotated_image[:, :, slice_z]\n",
    "\n",
    "    # The cast is necessary, otherwise get sitk::ERROR: Pixel type: 16-bit signed integer is not supported in 2D\n",
    "    # However, this does throw some weird errors\n",
    "    smooth_slice = sitk.GradientAnisotropicDiffusionImageFilter().Execute(\n",
    "        sitk.Cast(rotated_image_slice, sitk.sitkFloat64)\n",
    "    )\n",
    "\n",
    "    otsu = sitk.OtsuThresholdImageFilter().Execute(smooth_slice)\n",
    "\n",
    "    hole_filling = sitk.BinaryGrindPeakImageFilter().Execute(otsu)\n",
    "\n",
    "    # BinaryGrindPeakImageFilter has inverted foreground/background 0 and 1, need to invert\n",
    "    inverted = sitk.NotImageFilter().Execute(hole_filling)\n",
    "\n",
    "    largest_component = select_largest_component(inverted)\n",
    "\n",
    "    contour = sitk.BinaryContourImageFilter().Execute(largest_component)\n",
    "\n",
    "    plt.imshow(np.ndarray.transpose(sitk.GetArrayFromImage(contour)))\n",
    "    plt.axis(\"off\")\n",
    "    plt.show()\n",
    "\n",
    "    # This does transpose but if we only care about # of contours, it's fine\n",
    "    contours, hierarchy = cv2.findContours(\n",
    "        sitk.GetArrayFromImage(contour), cv2.RETR_TREE, cv2.CHAIN_APPROX_SIMPLE\n",
    "    )\n",
    "\n",
    "    print(f\"Number of contours: {len(contours)}\")\n",
    "\n",
    "    return contour"
   ]
  },
  {
   "cell_type": "markdown",
   "metadata": {},
   "source": [
    "# Interactive display"
   ]
  },
  {
   "cell_type": "code",
   "execution_count": 5,
   "metadata": {
    "ExecuteTime": {
     "end_time": "2023-03-12T12:01:23.916059Z",
     "start_time": "2023-03-12T12:01:23.596720Z"
    }
   },
   "outputs": [
    {
     "data": {
      "application/vnd.jupyter.widget-view+json": {
       "model_id": "495bb57962324a8b81236d9499945a6c",
       "version_major": 2,
       "version_minor": 0
      },
      "text/plain": [
       "interactive(children=(IntSlider(value=0, description='theta_x', max=180, min=-180), IntSlider(value=0, descrip…"
      ]
     },
     "metadata": {},
     "output_type": "display_data"
    },
    {
     "data": {
      "text/plain": [
       "<function __main__.rotate_and_get_contour_testing(img: SimpleITK.SimpleITK.Image, theta_x: int, theta_y: int, theta_z: int, slice_z: int) -> SimpleITK.SimpleITK.Image>"
      ]
     },
     "execution_count": 5,
     "metadata": {},
     "output_type": "execute_result"
    }
   ],
   "source": [
    "interact(\n",
    "    rotate_and_get_contour_testing,\n",
    "    img=fixed(image),\n",
    "    theta_x=(-180, 180),\n",
    "    theta_y=(-180, 180),\n",
    "    theta_z=(-180, 180),\n",
    "    slice_z=(0, image.GetSize()[2] - 1),\n",
    ")"
   ]
  },
  {
   "cell_type": "markdown",
   "metadata": {},
   "source": [
    "# Save `sitk` and `np` representations to text files for testing pixel spacing. Also save `sitk` and `np` array representations to PNG files.\n",
    "\n",
    "Note: The underlying array seems to be correctly spaced since the PNG file generated from it looks correctly spaced. Note that when written to a file, it's incorrectly spaced because in mono font, height > width, but that doesn't matter."
   ]
  },
  {
   "cell_type": "code",
   "execution_count": 10,
   "metadata": {
    "ExecuteTime": {
     "end_time": "2023-03-12T12:01:24.753499Z",
     "start_time": "2023-03-12T12:01:23.954265Z"
    }
   },
   "outputs": [
    {
     "name": "stderr",
     "output_type": "stream",
     "text": [
      "WARNING: In /tmp/SimpleITK-build/ITK-prefix/include/ITK-5.3/itkAnisotropicDiffusionImageFilter.hxx, line 76\n",
      "GradientAnisotropicDiffusionImageFilter (0x1085b0ac0): Anisotropic diffusion unstable time step: 0.125\n",
      "Stable time step for this image must be smaller than 0.0997431\n",
      "\n",
      "WARNING: In /tmp/SimpleITK-build/ITK-prefix/include/ITK-5.3/itkAnisotropicDiffusionImageFilter.hxx, line 76\n",
      "GradientAnisotropicDiffusionImageFilter (0x1085b0ac0): Anisotropic diffusion unstable time step: 0.125\n",
      "Stable time step for this image must be smaller than 0.0997431\n",
      "\n",
      "WARNING: In /tmp/SimpleITK-build/ITK-prefix/include/ITK-5.3/itkAnisotropicDiffusionImageFilter.hxx, line 76\n",
      "GradientAnisotropicDiffusionImageFilter (0x1085b0ac0): Anisotropic diffusion unstable time step: 0.125\n",
      "Stable time step for this image must be smaller than 0.0997431\n",
      "\n",
      "WARNING: In /tmp/SimpleITK-build/ITK-prefix/include/ITK-5.3/itkAnisotropicDiffusionImageFilter.hxx, line 76\n",
      "GradientAnisotropicDiffusionImageFilter (0x1085b0ac0): Anisotropic diffusion unstable time step: 0.125\n",
      "Stable time step for this image must be smaller than 0.0997431\n",
      "\n",
      "WARNING: In /tmp/SimpleITK-build/ITK-prefix/include/ITK-5.3/itkAnisotropicDiffusionImageFilter.hxx, line 76\n",
      "GradientAnisotropicDiffusionImageFilter (0x1085b0ac0): Anisotropic diffusion unstable time step: 0.125\n",
      "Stable time step for this image must be smaller than 0.0997431\n",
      "\n"
     ]
    }
   ],
   "source": [
    "from PIL import Image\n",
    "\n",
    "# This is the real rotate_and_get_contour function\n",
    "sitk_contour_slice = rotate_and_get_contour(image, 0, 0, 0, 0)\n",
    "# show_fiji(contour)\n",
    "\n",
    "write_sitk_slice(sitk_contour_slice, \"contour_sitk.txt\")\n",
    "\n",
    "# Numpy binary 2D array. It's the transpose of contour_slice\n",
    "np_contour_slice: np.ndarray = sitk.GetArrayFromImage(sitk_contour_slice)\n",
    "\n",
    "write_numpy_array_slice_transpose(np_contour_slice, \"contour_numpy.txt\")\n",
    "\n",
    "# Convert binary (0|1) array to binary (0|255) array to display as white in images\n",
    "np_contour_slice_255: np.ndarray = binary_array_to_255_array(np_contour_slice)\n",
    "\n",
    "PNG = Image.fromarray(np_contour_slice_255)\n",
    "\n",
    "PNG.save(\"numpy_array_255.png\")"
   ]
  },
  {
   "cell_type": "markdown",
   "metadata": {},
   "source": [
    "# Get arc length.\n",
    "\n",
    "`cv2.findContours` must be called on a `numpy` array. `cv2.findContours` returns the same result regardless of whether the array is binary (0|1) or binary (0|255). See unit test in [`test_imgproc.py`](../../tests/test_imgproc.py).\n",
    "\n",
    "See notes on our [Wiki](https://github.com/COMP523TeamD/HeadCircumferenceTool/wiki/Dependencies)."
   ]
  },
  {
   "cell_type": "code",
   "execution_count": 11,
   "metadata": {
    "ExecuteTime": {
     "end_time": "2023-03-12T12:01:24.764117Z",
     "start_time": "2023-03-12T12:01:24.758669Z"
    }
   },
   "outputs": [
    {
     "name": "stdout",
     "output_type": "stream",
     "text": [
      "Number of contours: 2\n",
      "\tArc length of contour 0: 522.7005717754364\n",
      "\tArc length of contour 1: 518.6000666618347\n"
     ]
    }
   ],
   "source": [
    "# This returns the same result for binary arrays with 0's and 1's and binary arrays with 0's and 255's, see test_imgproc.py\n",
    "# contours is a list of contours since there could be multiple contours. That is, contours[0] might be the outer contour and contours[1] might be the inner contour.\n",
    "# There could be another contour contours[2] (or higher), depending on the image.\n",
    "contours, hierarchy = cv2.findContours(\n",
    "    np_contour_slice, cv2.RETR_TREE, cv2.CHAIN_APPROX_SIMPLE\n",
    ")\n",
    "\n",
    "print(f\"Number of contours: {len(contours)}\")\n",
    "for i in range(len(contours)):\n",
    "    print(f\"\\tArc length of contour {i}: {cv2.arcLength(contours[i], True)}\")"
   ]
  },
  {
   "cell_type": "markdown",
   "metadata": {},
   "source": [
    "# `contours[0]` is always the parent contour, assuming there are no islands.\n",
    "\n",
    "This is based on a unit test so may not be true for all cases.\n",
    "\n",
    "See unit test in `test_imgproc.py`."
   ]
  },
  {
   "cell_type": "markdown",
   "metadata": {},
   "source": [
    "# Investigate one failing test case in `test_imgproc.test_arc_length_of_transposed_matrix_is_same_hardcoded`\n",
    "\n",
    "The test passes for NIFTI_IMAGE (theta_x, theta_y, theta_z, slice_z) = (0, 0, 0, 0 to 144 with stepsize 18) but fails for (0, 0, 0, 162)\n",
    "\n",
    "Slice 162 is an edge case and doesn't look like a brain slice. 34 contours are detected. It seems that the algorithm may not return the correct result for a transposed matrix that is an \"edge case\" (i.e. not a brain slice and lots of contours detected).\n",
    "\n",
    "If Prof. Styner is okay with this, we might not need to be concerned about it. A user would never care about the circumference of an edge case like this. If it matters, then we can always transpose the matrix... or throw an error/warning when lots of contours are detected"
   ]
  },
  {
   "cell_type": "code",
   "execution_count": 12,
   "metadata": {
    "ExecuteTime": {
     "end_time": "2023-03-12T12:01:25.130333Z",
     "start_time": "2023-03-12T12:01:24.770194Z"
    }
   },
   "outputs": [
    {
     "name": "stdout",
     "output_type": "stream",
     "text": [
      "Number of contours in transposed: 34\n",
      "Number of contours in non-transposed: 34\n",
      "Arc length of transposed parent contour: 7.656854152679443\n",
      "Arc length of non-transposed parent contour: 10.485281229019165\n"
     ]
    },
    {
     "name": "stderr",
     "output_type": "stream",
     "text": [
      "WARNING: In /tmp/SimpleITK-build/ITK-prefix/include/ITK-5.3/itkAnisotropicDiffusionImageFilter.hxx, line 76\n",
      "GradientAnisotropicDiffusionImageFilter (0x1085b3530): Anisotropic diffusion unstable time step: 0.125\n",
      "Stable time step for this image must be smaller than 0.0997431\n",
      "\n",
      "WARNING: In /tmp/SimpleITK-build/ITK-prefix/include/ITK-5.3/itkAnisotropicDiffusionImageFilter.hxx, line 76\n",
      "GradientAnisotropicDiffusionImageFilter (0x1085b3530): Anisotropic diffusion unstable time step: 0.125\n",
      "Stable time step for this image must be smaller than 0.0997431\n",
      "\n",
      "WARNING: In /tmp/SimpleITK-build/ITK-prefix/include/ITK-5.3/itkAnisotropicDiffusionImageFilter.hxx, line 76\n",
      "GradientAnisotropicDiffusionImageFilter (0x1085b3530): Anisotropic diffusion unstable time step: 0.125\n",
      "Stable time step for this image must be smaller than 0.0997431\n",
      "\n",
      "WARNING: In /tmp/SimpleITK-build/ITK-prefix/include/ITK-5.3/itkAnisotropicDiffusionImageFilter.hxx, line 76\n",
      "GradientAnisotropicDiffusionImageFilter (0x1085b3530): Anisotropic diffusion unstable time step: 0.125\n",
      "Stable time step for this image must be smaller than 0.0997431\n",
      "\n",
      "WARNING: In /tmp/SimpleITK-build/ITK-prefix/include/ITK-5.3/itkAnisotropicDiffusionImageFilter.hxx, line 76\n",
      "GradientAnisotropicDiffusionImageFilter (0x1085b3530): Anisotropic diffusion unstable time step: 0.125\n",
      "Stable time step for this image must be smaller than 0.0997431\n",
      "\n"
     ]
    }
   ],
   "source": [
    "reader = sitk.ImageFileReader()\n",
    "reader.SetFileName(NIFTI_PATH)\n",
    "image = reader.Execute()\n",
    "\n",
    "sitk_contour: sitk.Image = rotate_and_get_contour(image, 0, 0, 0, 162)\n",
    "\n",
    "np_contour_transposed = sitk.GetArrayFromImage(sitk_contour)\n",
    "np_contour_not_transposed = np.ndarray.transpose(np_contour_transposed)\n",
    "\n",
    "contours_transposed, hierarchy_transposed = cv2.findContours(\n",
    "    np_contour_transposed, cv2.RETR_TREE, cv2.CHAIN_APPROX_SIMPLE\n",
    ")\n",
    "contours_not_transposed, hierarchy_not_transposed = cv2.findContours(\n",
    "    np_contour_not_transposed, cv2.RETR_TREE, cv2.CHAIN_APPROX_SIMPLE\n",
    ")\n",
    "\n",
    "# Both of the first contours are the parent contour... not sure why the lengths are different...\n",
    "assert hierarchy_transposed[0][0][3] == -1\n",
    "assert hierarchy_not_transposed[0][0][3] == -1\n",
    "\n",
    "print(f\"Number of contours in transposed: {len(contours_transposed)}\")\n",
    "print(f\"Number of contours in non-transposed: {len(contours_not_transposed)}\")\n",
    "print(\n",
    "    f\"Arc length of transposed parent contour: {cv2.arcLength(contours_transposed[0], True)}\"\n",
    ")\n",
    "print(\n",
    "    f\"Arc length of non-transposed parent contour: {cv2.arcLength(contours_not_transposed[0], True)}\"\n",
    ")"
   ]
  },
  {
   "cell_type": "code",
   "execution_count": null,
   "metadata": {
    "ExecuteTime": {
     "end_time": "2023-03-12T12:01:25.130626Z",
     "start_time": "2023-03-12T12:01:25.126283Z"
    }
   },
   "outputs": [],
   "source": []
  }
 ],
 "metadata": {
  "kernelspec": {
   "display_name": "Python 3 (ipykernel)",
   "language": "python",
   "name": "python3"
  },
  "language_info": {
   "codemirror_mode": {
    "name": "ipython",
    "version": 3
   },
   "file_extension": ".py",
   "mimetype": "text/x-python",
   "name": "python",
   "nbconvert_exporter": "python",
   "pygments_lexer": "ipython3",
   "version": "3.10.2"
  }
 },
 "nbformat": 4,
 "nbformat_minor": 2
}
